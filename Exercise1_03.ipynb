{
  "nbformat": 4,
  "nbformat_minor": 0,
  "metadata": {
    "kernelspec": {
      "display_name": "Python 3",
      "language": "python",
      "name": "python3"
    },
    "language_info": {
      "codemirror_mode": {
        "name": "ipython",
        "version": 3
      },
      "file_extension": ".py",
      "mimetype": "text/x-python",
      "name": "python",
      "nbconvert_exporter": "python",
      "pygments_lexer": "ipython3",
      "version": "3.8.5"
    },
    "colab": {
      "name": "Exercise1_03.ipynb",
      "provenance": [],
      "collapsed_sections": []
    }
  },
  "cells": [
    {
      "cell_type": "markdown",
      "metadata": {
        "id": "lo10iULs3k8C"
      },
      "source": [
        "# Exercise 1.03: Teaching the Agent to Win\n",
        "\n",
        "In this exercise, we will see how the steps needed to win can be reduced. We will be making the agent that we developed in the previous section activity detect situations where it can win a game.\n",
        "\n",
        "The following steps will help you to complete this exercise:"
      ]
    },
    {
      "cell_type": "markdown",
      "metadata": {
        "id": "aH-fZfdX3k8K"
      },
      "source": [
        "1.- Reuse the previous code from Steps 1–5 from Activity 1.01"
      ]
    },
    {
      "cell_type": "code",
      "metadata": {
        "id": "L0ZxiHEX3k8j"
      },
      "source": [
        "from random import choice\r\n",
        "\r\n",
        "wins= [\r\n",
        "    [0, 1, 2],\r\n",
        "    [3, 4, 5],\r\n",
        "    [6, 7, 8],\r\n",
        "    [0, 3, 6],\r\n",
        "    [1, 4, 7],\r\n",
        "    [2, 5, 8],\r\n",
        "    [0, 4, 8],\r\n",
        "    [2, 4, 6]\r\n",
        "]\r\n",
        "\r\n",
        "EMPTY_SIGN='-'\r\n",
        "IA_SIGN='X'\r\n",
        "PLAYER_SIGN='O'\r\n",
        "\r\n",
        "def prtBoard(board):\r\n",
        "    cells=board\r\n",
        "    print('Fila/Col     1   2   3 ')\r\n",
        "    print('\\t1    ' + cells[0] + ' | ' + cells[1] + ' | ' + cells[2])\r\n",
        "    print('\\t    -----------')\r\n",
        "    print('\\t2    ' + cells[3] + ' | ' + cells[4] + ' | ' + cells[5])\r\n",
        "    print('\\t    -----------')\r\n",
        "    print('\\t3    ' + cells[6] + ' | ' + cells[7] + ' | ' + cells[8])\r\n",
        "\r\n",
        "def player_move(board, fila, columna):\r\n",
        "    while True:\r\n",
        "      index = 3 * (fila - 1) + (columna - 1)\r\n",
        "      if board[index] == EMPTY_SIGN:\r\n",
        "          return board[:index] + PLAYER_SIGN + board[index+1:]\r\n",
        "      else:\r\n",
        "        print('\\nFila: '+ str(fila) +' Columna: '+ str(columna))\r\n",
        "        print('Esta posicion ya esta ocupada, Elige otra celda...\\n\\n')\r\n",
        "        prtBoard(board)\r\n",
        "        fila = int(input('Ingresa la Fila: '))\r\n",
        "        columna = int(input('Ingresa la Columna: '))\r\n",
        "        \r\n",
        "def game_won_by(board):\r\n",
        "    for idx in wins:\r\n",
        "        if board[idx[0]] == board[idx[1]] == board[idx[2]] != EMPTY_SIGN:\r\n",
        "            return board[idx[0]]\r\n",
        "    return EMPTY_SIGN"
      ],
      "execution_count": null,
      "outputs": []
    },
    {
      "cell_type": "code",
      "metadata": {
        "id": "VL40g-Qm3k8l"
      },
      "source": [
        "\r\n",
        "def juego_Gato():\r\n",
        "    fin= False\r\n",
        "    empty_cell_count = 9\r\n",
        "    board = EMPTY_SIGN * 9\r\n",
        "    print('TIC TAC TOE GAME\\n\\n')\r\n",
        "    nombre = input('Teclea tu Nombre: ')\r\n",
        "    print('Comienza el Juego!')\r\n",
        "    while empty_cell_count > 0 and not fin:\r\n",
        "        if empty_cell_count % 2 == 1:\r\n",
        "            print('\\n\\n\\nTurno de la IA\\n')\r\n",
        "            board = ia_move(board)\r\n",
        "        else:\r\n",
        "            print('\\n\\n\\nTurno de '+ nombre)\r\n",
        "            fila = int(input('Ingresa la Fila: '))\r\n",
        "            columna = int(input('Ingresa la Columna: '))\r\n",
        "            print('')\r\n",
        "            board = player_move(board, fila, columna)\r\n",
        "        prtBoard(board)\r\n",
        "        fin = game_won_by(board) != EMPTY_SIGN\r\n",
        "        empty_cell_count = sum(1 for cell in board if cell == EMPTY_SIGN) \r\n",
        "    print('Fin Del Juego.')"
      ],
      "execution_count": null,
      "outputs": []
    },
    {
      "cell_type": "markdown",
      "metadata": {
        "id": "vJN0Y4_N3k8p"
      },
      "source": [
        "2.- Re-define the function, `ai_move`.  `ai_move` will return a move that consider its own previous moves. If the game can be won in that move, ai_move will select that move:"
      ]
    },
    {
      "cell_type": "code",
      "metadata": {
        "id": "E0Sbnrr53k8r"
      },
      "source": [
        "def ia_move(board):\r\n",
        "    board2 = all_moves_from_board(board,IA_SIGN)\r\n",
        "    for b in board2: \r\n",
        "      if game_won_by(b) == IA_SIGN:\r\n",
        "        return b\r\n",
        "    return choice(board2)"
      ],
      "execution_count": null,
      "outputs": []
    },
    {
      "cell_type": "markdown",
      "metadata": {
        "id": "khDQcEv63k8u"
      },
      "source": [
        "3.- Test the code snippet with a game loop."
      ]
    },
    {
      "cell_type": "code",
      "metadata": {
        "id": "bOemBNRS3k8y"
      },
      "source": [
        "#juego_Gato()"
      ],
      "execution_count": null,
      "outputs": []
    },
    {
      "cell_type": "markdown",
      "metadata": {
        "id": "CiiRAEFM3k81"
      },
      "source": [
        "4.- Count all the possible moves. To do this, we must change the `all_moves_from_board` function to include this improvement. We must do this so that, if the game is won by `AI_SIGN`, it will return that value"
      ]
    },
    {
      "cell_type": "code",
      "metadata": {
        "id": "s62wDrtk3k82"
      },
      "source": [
        "def all_moves_from_board(board, sign):\r\n",
        "  lmoves = []\r\n",
        "  for i in range(len(board)):\r\n",
        "    if board[i] == EMPTY_SIGN:\r\n",
        "      new_board = board[:i] + sign + board[i+1:]\r\n",
        "      lmoves.append(new_board)\r\n",
        "      if game_won_by(new_board) == IA_SIGN:\r\n",
        "        return [new_board]\r\n",
        "  return lmoves\r\n"
      ],
      "execution_count": null,
      "outputs": []
    },
    {
      "cell_type": "markdown",
      "metadata": {
        "id": "qFfRGA3J3k85"
      },
      "source": [
        "5.- find all the possibilities using the `count_possibilities` function\n",
        "\n",
        "Output:\n",
        "\n",
        "```\n",
        "step 0. Moves: 1\n",
        " step 1. Moves: 9\n",
        " step 2. Moves: 72\n",
        " step 3. Moves: 504\n",
        " step 4. Moves: 3024\n",
        " step 5. Moves: 8525\n",
        " step 6. Moves: 28612\n",
        " step 7. Moves: 42187\n",
        " step 8. Moves: 55888\n",
        " First player wins: 32395\n",
        " Second player wins: 23445\n",
        " Draw 35544\n",
        " Total 91384\n",
        "```"
      ]
    },
    {
      "cell_type": "code",
      "metadata": {
        "colab": {
          "base_uri": "https://localhost:8080/"
        },
        "id": "FOFEvZOo3k86",
        "outputId": "9b13d820-5621-42f6-b059-ec69437beb23"
      },
      "source": [
        "def count_possibilities(): \r\n",
        "  lmoves = [EMPTY_SIGN * 9]\r\n",
        "  ia_wins = []\r\n",
        "  player_wins = []\r\n",
        "  for i in range(9):\r\n",
        "    print('step ' + str(i) + '. Moves: ' +  str(len(lmoves)))\r\n",
        "    sign = IA_SIGN if i % 2 == 0 else PLAYER_SIGN\r\n",
        "    lmoves = all_moves_from_board_list(lmoves, sign)\r\n",
        "    \r\n",
        "    for b in lmoves:\r\n",
        "      won_by = game_won_by(b)\r\n",
        "      if won_by == IA_SIGN:\r\n",
        "        ia_wins.append(b)\r\n",
        "        lmoves.remove(b)\r\n",
        "      elif won_by == PLAYER_SIGN:\r\n",
        "        player_wins.append(b)\r\n",
        "        lmoves.remove(b)\r\n",
        "  print('IA Wins: ' + str(len(ia_wins)))\r\n",
        "  print('Player wins: ' + str(len(player_wins)))\r\n",
        "  print('Draw', str(len(lmoves)))\r\n",
        "  print('Total', str(len(ia_wins) + len(player_wins) +  len(lmoves)))\r\n",
        "\r\n",
        "\r\n",
        "def all_moves_from_board_list(board, sign):\r\n",
        "  lmoves = []\r\n",
        "  for b in board:\r\n",
        "    lmoves.extend(all_moves_from_board(b,sign))\r\n",
        "  return lmoves\r\n",
        "\r\n",
        "count_possibilities()"
      ],
      "execution_count": null,
      "outputs": [
        {
          "output_type": "stream",
          "text": [
            "step 0. Moves: 1\n",
            "step 1. Moves: 9\n",
            "step 2. Moves: 72\n",
            "step 3. Moves: 504\n",
            "step 4. Moves: 3024\n",
            "step 5. Moves: 8525\n",
            "step 6. Moves: 28612\n",
            "step 7. Moves: 42187\n",
            "step 8. Moves: 55888\n",
            "IA Wins: 32395\n",
            "Player wins: 23445\n",
            "Draw 35544\n",
            "Total 91384\n"
          ],
          "name": "stdout"
        }
      ]
    }
  ]
}